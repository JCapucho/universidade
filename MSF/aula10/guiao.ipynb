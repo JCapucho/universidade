{
 "cells": [
  {
   "cell_type": "code",
   "execution_count": null,
   "id": "7cca2983-70a7-45c8-8372-818f924b3b68",
   "metadata": {
    "tags": [
     "remove_cell"
    ]
   },
   "outputs": [],
   "source": [
    "from IPython.display import display, Math"
   ]
  },
  {
   "cell_type": "code",
   "execution_count": 1,
   "id": "71d71078-400c-49ff-b95d-a94074f7b9c4",
   "metadata": {
    "tags": []
   },
   "outputs": [],
   "source": [
    "# As seguintes librarias serão necessárias para resolver os exercícios\n",
    "import numpy as np # O numpy permite efetuar cálculos de forma eficiente\n",
    "                   # sobre vários números (arrays)\n",
    "import matplotlib.pyplot as plt # O matplotlib e o seu módulo pyplot oferecem\n",
    "                                # uma interface simples para gerar gráficos"
   ]
  },
  {
   "cell_type": "markdown",
   "id": "73890377-81f6-4795-a68e-c36853c71126",
   "metadata": {},
   "source": [
    "# Exercício 1"
   ]
  },
  {
   "cell_type": "markdown",
   "id": "7f263379-dcf3-4472-a72d-231d7c76ba8c",
   "metadata": {},
   "source": [
    "Num jogo de snooker, um jogador vai jogar a bola azul contra a amarela de modo a que a bola amarela caia na bolsa do canto direito. Para tal a bola amarela tem de sair da colisão com a bola azul a fazer um ângulo de $\\phi = 35^\\circ$.\n",
    "\n",
    "Não considere o atrito e a resistência do ar, de modo que a colisão é elástica.\n",
    "\n",
    "Note: As bolas de snooker têm a mesma massa.\n",
    "\n",
    "A bola azul bate na amarela com a velocidade de 1 m/s. Nestas condições calcule:"
   ]
  },
  {
   "cell_type": "markdown",
   "id": "ddd8361b-d9c3-44f3-977d-44bed61593f2",
   "metadata": {},
   "source": [
    "## Parte A"
   ]
  },
  {
   "cell_type": "markdown",
   "id": "6f90f3e7-b765-40a7-a122-efd3d7db40c9",
   "metadata": {},
   "source": [
    "# Exercício 2"
   ]
  },
  {
   "cell_type": "markdown",
   "id": "dc0a892b-a413-4b22-8f6d-27f6ab0b92a7",
   "metadata": {},
   "source": [
    "Uma mola exerce uma força $F_x = -k \\, x(t)$, em que $k$ é a constante elástica da mola, num corpo de massa $m$.\n",
    "\n",
    "Considere $k = 1 \\; \\text{N/m}$ e $m = 1 \\; \\text{kg}$.\n",
    "\n",
    "Considerando a lei do movimento $x(t) = A\\cos\\left( \\sqrt{\\frac{k}{m}}t + \\phi \\right)$ calcule $A$ e $\\phi$, sabendo:"
   ]
  },
  {
   "cell_type": "markdown",
   "id": "7e9dae44-aac6-4ae6-a6c1-565c7de44344",
   "metadata": {},
   "source": [
    "## Parte A"
   ]
  },
  {
   "cell_type": "markdown",
   "id": "23248245-6d00-401a-8d4b-c8291283da93",
   "metadata": {},
   "source": [
    "a) que a velocidade inicial é nula e a posição inicial é 4 m.\n",
    "\n",
    "Amplitude:\n",
    "\n",
    "$$\n",
    "x^2(t) + \\left( \\frac{v_x(t)}{\\omega} \\right)^2 = A^2\n",
    "$$\n",
    "\n",
    "Subsituindo\n",
    "\n",
    "$$\n",
    "\\begin{align*}\n",
    "x^2(t) + \\left( \\frac{v_x(t)}{\\omega} \\right)^2 = A^2\n",
    "&\\Leftrightarrow \\;\n",
    "16 + \\left( \\frac{0}{1} \\right)^2 = A^2 \\\\\n",
    "\\Leftrightarrow \\;\n",
    "16 = A^2\n",
    "&\\Leftrightarrow \\;\n",
    "\\pm 4 = A\n",
    "\\end{align*}\n",
    "$$\n",
    "\n",
    "Fase inicial:\n",
    "\n",
    "$$\n",
    "4 = 4\\cos\\left(\\phi\\right)\n",
    "\\Leftrightarrow\n",
    "1 = \\cos\\left(\\phi\\right)\n",
    "\\Leftrightarrow\n",
    "\\phi = 2c\\pi, \\quad c \\in \\mathbb{N} \n",
    "$$\n",
    "\n",
    "$$\n",
    "\\phi = 0\n",
    "$$"
   ]
  },
  {
   "cell_type": "markdown",
   "id": "0d8ec016-9674-40e8-9ef6-62628a3bb9fb",
   "metadata": {},
   "source": [
    "## Parte B"
   ]
  },
  {
   "cell_type": "markdown",
   "id": "d978893b-3124-4212-ac20-0cc0b9e98bcc",
   "metadata": {},
   "source": [
    "b) que a velocidade inicial é -2 m/s e a posição inicial é 4 m.\n",
    "\n",
    "Amplitude:\n",
    "\n",
    "$$\n",
    "\\begin{align*}\n",
    "x^2(t) + \\left( \\frac{v_x(t)}{\\omega} \\right)^2 = A^2\n",
    "&\\Leftrightarrow \\;\n",
    "16 + \\left( \\frac{-2}{1} \\right)^2 = A^2 \\\\\n",
    "\\Leftrightarrow \\;\n",
    "16 + \\left( -2 \\right)^2 = A^2\n",
    "&\\Leftrightarrow \\;\n",
    "16 + 4 = A^2 \\\\\n",
    "\\Leftrightarrow \\;\n",
    "20 = A^2\n",
    "&\\Leftrightarrow \\;\n",
    "\\pm 2\\sqrt{5} = A\n",
    "\\end{align*}\n",
    "$$\n",
    "\n",
    "Fase inicial:\n",
    "\n",
    "$$\n",
    "4 = 2\\sqrt{5}\\sin\\left(\\phi\\right)\n",
    "\\Leftrightarrow\n",
    "\\frac{2\\sqrt{5}}{5} = \\sin\\left(\\phi\\right)\n",
    "\\Leftrightarrow\n",
    "\\phi = c\\pi, \\quad c \\in \\mathbb{N} \n",
    "$$\n",
    "\n",
    "$$\n",
    "\\phi = 0\n",
    "$$"
   ]
  }
 ],
 "metadata": {
  "kernelspec": {
   "display_name": "Python 3 (ipykernel)",
   "language": "python",
   "name": "python3"
  },
  "language_info": {
   "codemirror_mode": {
    "name": "ipython",
    "version": 3
   },
   "file_extension": ".py",
   "mimetype": "text/x-python",
   "name": "python",
   "nbconvert_exporter": "python",
   "pygments_lexer": "ipython3",
   "version": "3.10.12"
  }
 },
 "nbformat": 4,
 "nbformat_minor": 5
}
