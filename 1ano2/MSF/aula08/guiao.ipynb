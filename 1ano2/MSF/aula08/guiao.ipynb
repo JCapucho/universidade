{
 "cells": [
  {
   "cell_type": "code",
   "execution_count": 2,
   "id": "2139cb2c-cb36-4818-9c69-f2b55ad017ed",
   "metadata": {
    "tags": [
     "remove_cell"
    ]
   },
   "outputs": [],
   "source": [
    "from IPython.display import display, Math"
   ]
  },
  {
   "cell_type": "code",
   "execution_count": 3,
   "id": "a2956020-68fb-4a9f-b3cf-eddd6f663929",
   "metadata": {
    "tags": []
   },
   "outputs": [],
   "source": [
    "# As seguintes librarias serão necessárias para resolver os exercícios\n",
    "import numpy as np # O numpy permite efetuar cálculos de forma eficiente\n",
    "                   # sobre vários números (arrays)\n",
    "import matplotlib.pyplot as plt # O matplotlib e o seu módulo pyplot oferecem\n",
    "                                # uma interface simples para gerar gráficos"
   ]
  },
  {
   "cell_type": "markdown",
   "id": "c9ca8469-9aa7-4934-8af3-48597df22d1e",
   "metadata": {},
   "source": [
    "Ao longo desta ficha prática é dito várias vezes para referir ao problema 9 da aula teórica para as condições. O problema 9 tem as seguintes condições:\n",
    "\n",
    "- A massa do ciclista-bicicleta é de 75 kg\n",
    "- O coeficiente de resistência $\\mu$ de um piso liso de alcatrão é de 0.004\n",
    "- O coeficiente de resistência do ar é $C_\\text{res} = 0.9$\n",
    "- A área frontal do ciclista-bicicleta é de $A = 0.30 \\; m^2$\n",
    "- A densidade do ar é $\\rho_\\text{ar} = 1.225 \\; \\text{kg/m}^3$"
   ]
  },
  {
   "cell_type": "code",
   "execution_count": 4,
   "id": "ef6aa9f5-f079-4ecf-9ec5-6ff56d5169d4",
   "metadata": {},
   "outputs": [],
   "source": [
    "g = 9.8 # Aceleração gravítica na terra\n",
    "\n",
    "mu = 0.004 # Coeficiente de resistência do alcatrão\n",
    "rho_ar = 1.225 # Densidade do ar\n",
    "A = 0.3 # Área frontal do ciclista-bicicleta\n",
    "m = 75 # Massa do ciclista-bicicleta\n",
    "C_res = 0.9 # Coeficiente de resistência do ar"
   ]
  },
  {
   "cell_type": "markdown",
   "id": "2720c038-7f9f-4c96-a02f-92dba6b60ece",
   "metadata": {},
   "source": [
    "# Exercício 1"
   ]
  },
  {
   "cell_type": "markdown",
   "id": "0a650d1e-4e78-4dd5-8c78-887046bc0fb7",
   "metadata": {},
   "source": [
    "Determine a evolução temporal da velocidade de um ciclista, se este produzir continuamente a potência de 0.4 cv e partir com um empurrão de 1 m/s?"
   ]
  },
  {
   "cell_type": "code",
   "execution_count": 5,
   "id": "0c81e67f-b217-46bc-86b5-425728a07c07",
   "metadata": {},
   "outputs": [],
   "source": [
    "# A unidade SI de potência é o watt, logo precisamos de\n",
    "# converter de cavalos para watts\n",
    "p_ciclista = 0.4 * 735.49875"
   ]
  },
  {
   "cell_type": "markdown",
   "id": "f86ef232-fb7c-4287-8572-c75cbd660dea",
   "metadata": {},
   "source": [
    "## Parte A"
   ]
  },
  {
   "cell_type": "markdown",
   "id": "948cabad-1f82-44aa-9bc8-bc590325a715",
   "metadata": {},
   "source": [
    "Qual a sua velocidade terminal?\n",
    "\n",
    "A velocidade terminal do ciclista é a velocidade máxima que o ciclista atinge, logo se soubermos como a velocidade varia ao longo do tempo podemos a calcular, para isto podemos usar o método de Euler, mas primeiro precisamos de saber como a aceleração varia.\n",
    "\n",
    "A aceleração pode ser calculada dividindo a força pela massa, nós sabemos as forças aplicadas e sabemos que $F = \\sum_i F_i$ logo podemos calcular a aceleração como $a = \\sum_i \\frac{F_i}{m}$.\n",
    "\n",
    "Começamos por calcular a aceleração causada pela potência do ciclista, esta pode ser obtida dividindo a potência pela massa e velocidade, isto porque a potência é definida como:\n",
    "\n",
    "$$\n",
    "P_\\text{cicliscta} = F_\\text{cicliscta} \\cdot v = ma_\\text{potência} \\cdot v \\Leftrightarrow \\frac{P_\\text{cicliscta}}{mv} = a_\\text{potência}\n",
    "$$\n",
    "\n",
    "De seguida calculamos a aceleração pela resistência do ar, como a resistência do ar tem sentido contrário ao do referencial precisa de ser negada:\n",
    "\n",
    "$$\n",
    "F_\\text{ar} = - \\frac{C_\\text{res}}{2} \\, A \\, \\rho_\\text{ar} \\, v^2\n",
    "\\Leftrightarrow a_\\text{ar} = - \\frac{C_\\text{res}}{2m} \\, A \\, \\rho_\\text{ar} \\, v^2\n",
    "$$\n",
    "\n",
    "Finalmente obtemos a aceleração do atrito com o piso, mais uma vez o sentido é contrário ao referencial logo a força tem de ser negada:\n",
    "\n",
    "$$\n",
    "F_\\text{atrito} = - \\mu \\, g \\, m\n",
    "\\Leftrightarrow a_\\text{atrito} = - \\mu \\, g\n",
    "$$\n",
    "\n",
    "Ficando assim com a aceleração:\n",
    "\n",
    "$$\n",
    "a = \n",
    "\\frac{P_\\text{cicliscta}}{m v}\n",
    "- \\frac{C_\\text{res}}{2m}A\\rho_\\text{ar}v^2\n",
    "- \\mu g\n",
    "$$\n",
    "\n",
    "Podemos agora utilizar o método de Euler para obter os valores da aceleração e da velocidade:"
   ]
  },
  {
   "cell_type": "code",
   "execution_count": 5,
   "id": "366631d5-1c4b-4439-ad70-01fbba4038fe",
   "metadata": {
    "tags": []
   },
   "outputs": [],
   "source": [
    "# Parâmetros\n",
    "dt = 0.001\n",
    "t0 = 0\n",
    "tf = 200\n",
    "x0 = 0\n",
    "v0 = 1\n",
    "\n",
    "# Esta função calcula a aceleração a partir da velocidade atual do ciclista\n",
    "def accel(v):\n",
    "    # Aceleração pela potência do ciclista\n",
    "    accel_p = p_ciclista/(m * v)\n",
    "    # Aceleração pela resistência do ar\n",
    "    accel_res = -C_res/(2*m) * A * rho_ar * v**2\n",
    "    # Aceleração pelo atrito\n",
    "    accel_atrito = (- mu * g)/m\n",
    "    # Aceleração total\n",
    "    return accel_p + accel_res + accel_atrito\n",
    "\n",
    "# Número de passos/iterações\n",
    "#\n",
    "# + 0.1 para garantir que não há arrendodamentos\n",
    "# para baixo\n",
    "n = int((tf-t0) / dt + 0.1)\n",
    "\n",
    "t = np.zeros(n + 1)\n",
    "x = np.zeros(n + 1)\n",
    "v = np.zeros(n + 1)\n",
    "a = np.zeros(n + 1)\n",
    "\n",
    "# Valores iniciais\n",
    "a[0] = accel(v0)\n",
    "v[0] = v0\n",
    "x[0] = x0\n",
    "t[0] = t0\n",
    "\n",
    "for i in range(n):\n",
    "    a[i + 1] = accel(v[i])\n",
    "    v[i + 1] = v[i] + a[i] * dt\n",
    "    x[i + 1] = x[i] + v[i] * dt\n",
    "    t[i + 1] = t[i] + dt"
   ]
  },
  {
   "cell_type": "code",
   "execution_count": 6,
   "id": "8ca7d9de-2f6e-4abb-8761-3fae55b11962",
   "metadata": {
    "tags": []
   },
   "outputs": [
    {
     "data": {
      "image/png": "[encoded data removed]",
      "text/plain": [
       "<Figure size 640x480 with 1 Axes>"
      ]
     },
     "metadata": {},
     "output_type": "display_data"
    }
   ],
   "source": [
    "plt.plot(t, v, \"g\")\n",
    "plt.xlabel(\"t (s)\")\n",
    "plt.ylabel(\"v (m/s)\")\n",
    "plt.title(\"Velocidade\")\n",
    "plt.show()"
   ]
  },
  {
   "cell_type": "code",
   "execution_count": 7,
   "id": "8a57bf5c-af9e-41f3-ba89-1dddcb3e3e7c",
   "metadata": {
    "tags": []
   },
   "outputs": [],
   "source": [
    "idx = v.argmax()\n",
    "vT = v[idx]"
   ]
  },
  {
   "cell_type": "code",
   "execution_count": 8,
   "id": "80f81370-021e-4cda-a714-e40836c0c362",
   "metadata": {
    "tags": [
     "remove_cell"
    ]
   },
   "outputs": [
    {
     "data": {
      "text/latex": [
       "$\\displaystyle v_T = 11.62808841 \\; \\text{m/s}$"
      ],
      "text/plain": [
       "<IPython.core.display.Math object>"
      ]
     },
     "metadata": {},
     "output_type": "display_data"
    }
   ],
   "source": [
    "display(Math(r'v_T = {:.8f} \\; \\text{{m/s}}'.format(vT)))"
   ]
  },
  {
   "cell_type": "markdown",
   "id": "e6ae67e1-4ef4-4254-b66f-6ac0aede985a",
   "metadata": {},
   "source": [
    "## Parte B"
   ]
  },
  {
   "cell_type": "markdown",
   "id": "4137a25a-1062-4d36-82cc-c8718c77f2fe",
   "metadata": {},
   "source": [
    "Ao fim de quanto tempo atinge 90% da sua velocidade terminal?\n",
    "\n",
    "Agora que já sabemos a velocidade terminal para determinar o instante em que esta atinge 90% do seu total, podemos subtrair os 90% da velocidade terminal a velocidade e determinar o zero desta"
   ]
  },
  {
   "cell_type": "code",
   "execution_count": 9,
   "id": "8600ba17-bdf8-48d6-86af-26ec0dd63c20",
   "metadata": {
    "tags": []
   },
   "outputs": [
    {
     "data": {
      "image/png": "[encoded data removed]",
      "text/plain": [
       "<Figure size 640x480 with 1 Axes>"
      ]
     },
     "metadata": {},
     "output_type": "display_data"
    }
   ],
   "source": [
    "plt.plot(t, v - 0.9 * vT, \"g\")\n",
    "plt.xlabel(\"t (s)\")\n",
    "plt.ylabel(\"v (m/s)\")\n",
    "plt.title(\"Velocidade (- 90% Velocidade Terminal)\")\n",
    "plt.show()"
   ]
  },
  {
   "cell_type": "code",
   "execution_count": 10,
   "id": "563f90bb-82e0-41c1-8daa-40bcff548142",
   "metadata": {
    "tags": []
   },
   "outputs": [],
   "source": [
    "for i in range(n):\n",
    "  # Subtrair 90% da velocidade terminal a velocidade\n",
    "  scaledV0 = v[i] - vT * 0.9\n",
    "  scaledV1 = v[i + 1] - vT * 0.9\n",
    "  # Procurar os zeros com a velocidade modificada\n",
    "  if scaledV0 == 0 or scaledV0 * scaledV1 < 0:\n",
    "    idx = i\n",
    "    break\n",
    "\n",
    "v90 = v[idx]\n",
    "t90 = t[idx]"
   ]
  },
  {
   "cell_type": "code",
   "execution_count": 11,
   "id": "f0a310a5-602b-4851-a320-af6e9cd3164a",
   "metadata": {
    "tags": [
     "remove_cell"
    ]
   },
   "outputs": [
    {
     "data": {
      "text/latex": [
       "$\\displaystyle v_{0.9} = 10.46518606 \\; \\text{m/s}$"
      ],
      "text/plain": [
       "<IPython.core.display.Math object>"
      ]
     },
     "metadata": {},
     "output_type": "display_data"
    },
    {
     "data": {
      "text/latex": [
       "$\\displaystyle t_{0.9} = 23.65700000 \\; \\text{s}$"
      ],
      "text/plain": [
       "<IPython.core.display.Math object>"
      ]
     },
     "metadata": {},
     "output_type": "display_data"
    }
   ],
   "source": [
    "display(Math(r'v_{{0.9}} = {:.8f} \\; \\text{{m/s}}'.format(v90)))\n",
    "display(Math(r't_{{0.9}} = {:.8f} \\; \\text{{s}}'.format(t90)))"
   ]
  },
  {
   "cell_type": "markdown",
   "id": "e5a37d97-008b-4ba5-b1ec-88f2b0457a31",
   "metadata": {},
   "source": [
    "## Parte C"
   ]
  },
  {
   "cell_type": "markdown",
   "id": "29d6bd6a-8257-4c31-8498-2cb0cc8596d7",
   "metadata": {},
   "source": [
    "Quanto tempo leva a percorrer 2 km?\n",
    "\n",
    "Tal como na última alínea podemos utilizar o mesmo método de subtrair 2km a posição e encontrar o zero."
   ]
  },
  {
   "cell_type": "code",
   "execution_count": 12,
   "id": "ece11df1-7687-4811-9d56-46036dd8670e",
   "metadata": {
    "tags": []
   },
   "outputs": [
    {
     "data": {
      "image/png": "[encoded data removed]",
      "text/plain": [
       "<Figure size 640x480 with 1 Axes>"
      ]
     },
     "metadata": {},
     "output_type": "display_data"
    }
   ],
   "source": [
    "plt.plot(t, x - 2000, \"r\")\n",
    "plt.xlabel(\"t (s)\")\n",
    "plt.ylabel(\"x (m)\")\n",
    "plt.title(\"Posição\")\n",
    "plt.show()"
   ]
  },
  {
   "cell_type": "code",
   "execution_count": 13,
   "id": "57db4751-220d-45d0-b9ef-fd5fb8d5a6ca",
   "metadata": {
    "tags": []
   },
   "outputs": [],
   "source": [
    "for i in range(n):\n",
    "  # Subtrair 2km a posição\n",
    "  scaledX0 = x[i] - 2000\n",
    "  scaledX1 = x[i + 1] - 2000\n",
    "  # Procurar os zeros com a posição modificada\n",
    "  if scaledX0 == 0 or scaledX0 * scaledX1 < 0:\n",
    "    idx = i\n",
    "    break\n",
    "\n",
    "x2000 = x[idx]\n",
    "t2000 = t[idx]"
   ]
  },
  {
   "cell_type": "code",
   "execution_count": 14,
   "id": "906645de-d6c2-4015-bd24-afad5a6dce0e",
   "metadata": {
    "tags": [
     "remove_cell"
    ]
   },
   "outputs": [
    {
     "data": {
      "text/latex": [
       "$\\displaystyle x_{2000} = 1999.99945074 \\; \\text{m}$"
      ],
      "text/plain": [
       "<IPython.core.display.Math object>"
      ]
     },
     "metadata": {},
     "output_type": "display_data"
    },
    {
     "data": {
      "text/latex": [
       "$\\displaystyle t_{2000} = 180.87900000 \\; \\text{s}$"
      ],
      "text/plain": [
       "<IPython.core.display.Math object>"
      ]
     },
     "metadata": {},
     "output_type": "display_data"
    }
   ],
   "source": [
    "display(Math(r'x_{{2000}} = {:.8f} \\; \\text{{m}}'.format(x2000)))\n",
    "display(Math(r't_{{2000}} = {:.8f} \\; \\text{{s}}'.format(t2000)))"
   ]
  },
  {
   "cell_type": "markdown",
   "id": "1ae368f6-acf0-4a80-84b5-4f069a3ae510",
   "metadata": {},
   "source": [
    "# Parte D"
   ]
  },
  {
   "cell_type": "markdown",
   "id": "86506037-891c-4a69-8d5b-c4dc401bc6a6",
   "metadata": {},
   "source": [
    "O ciclista do problema anterior segue logo atrás de um carro com carenagem aerodinâmica, tal que a força de resistência do ar experimentada pelo ciclista é reduzida por 99%.\n",
    "\n",
    "Qual a sua velocidade terminal agora?\n",
    "\n",
    "Podemos resolver exatamente como na alínea a) só precisamos de multiplicar a aceleração pela resistência do ar por $(1 - 0.99) = 0.01$, pois esta foi atenuada por 99%."
   ]
  },
  {
   "cell_type": "code",
   "execution_count": 15,
   "id": "d158b00a-ba3c-43d1-a0ab-046a87221c17",
   "metadata": {
    "tags": []
   },
   "outputs": [],
   "source": [
    "# Esta função calcula a aceleração a partir da velocidade atual do ciclista\n",
    "def accel(v):\n",
    "    # Aceleração pela potência do ciclista\n",
    "    accel_p = p_ciclista/(m * v)\n",
    "    # Aceleração pela resistência do ar\n",
    "    # Multiplicar por (1 - 0.99) = 0.01 pois a força está atenuada\n",
    "    accel_res = -C_res/(2*m) * A * rho_ar * v**2 * 0.01\n",
    "    # Aceleração pelo atrito\n",
    "    accel_atrito = - mu * g\n",
    "    # Aceleração total\n",
    "    return accel_p + accel_res + accel_atrito\n",
    "\n",
    "# Número de passos/iterações\n",
    "#\n",
    "# + 0.1 para garantir que não há arrendodamentos\n",
    "# para baixo\n",
    "n = int((tf-t0) / dt + 0.1)\n",
    "\n",
    "t = np.zeros(n + 1)\n",
    "x = np.zeros(n + 1)\n",
    "v = np.zeros(n + 1)\n",
    "a = np.zeros(n + 1)\n",
    "\n",
    "# Valores iniciais\n",
    "a[0] = accel(v0)\n",
    "v[0] = v0\n",
    "x[0] = x0\n",
    "t[0] = t0\n",
    "\n",
    "for i in range(n):\n",
    "    a[i + 1] = accel(v[i])\n",
    "    v[i + 1] = v[i] + a[i] * dt\n",
    "    x[i + 1] = x[i] + v[i] * dt\n",
    "    t[i + 1] = t[i] + dt"
   ]
  },
  {
   "cell_type": "code",
   "execution_count": 16,
   "id": "5590f16b-c404-4edc-8898-03bd745393d6",
   "metadata": {
    "tags": []
   },
   "outputs": [],
   "source": [
    "idx = v.argmax()\n",
    "vT99 = v[idx]"
   ]
  },
  {
   "cell_type": "code",
   "execution_count": 17,
   "id": "22282019-0073-42a8-94b5-60fe01804dc8",
   "metadata": {
    "tags": [
     "remove_cell"
    ]
   },
   "outputs": [
    {
     "data": {
      "text/latex": [
       "$\\displaystyle v_T = 32.64416964 \\; \\text{m/s}$"
      ],
      "text/plain": [
       "<IPython.core.display.Math object>"
      ]
     },
     "metadata": {},
     "output_type": "display_data"
    }
   ],
   "source": [
    "display(Math(r'v_T = {:.8f} \\; \\text{{m/s}}'.format(vT99)))"
   ]
  },
  {
   "cell_type": "markdown",
   "id": "526c6c7a-dbcf-4055-8801-4a3e518713c2",
   "metadata": {},
   "source": [
    "# Exercício 2"
   ]
  },
  {
   "cell_type": "markdown",
   "id": "b834e109-f210-4b88-8a60-d2fb4f4b2dc8",
   "metadata": {},
   "source": [
    "O ciclista sobe uma colina com uma inclinação de 5°.\n",
    "\n",
    "As forças aplicadas na bicicleta são quase idênticas as do último exercício, com a exceção do peso que agora também contribui para o movimento e o atrito que como depende da normal e a normal tem a mesma magnitude do componente vertical do peso vai ser alterada.\n",
    "\n",
    "A intensidade da força do peso no movimento do ciclista é de $P\\sin(5^\\circ)$, onde $P$ é a força do peso total que pode-se calculada como $-mg$ (a força é negativa no referencial utilizado).\n",
    "\n",
    "A intensidade do atrito pode ser calculado por $\\mu \\, \\left\\lvert \\vec{N} \\right\\rvert$, $\\left\\lvert \\vec{N} \\right\\rvert$ vai ser igual a $P\\cos(5^\\circ)$ pois este é o componente vertical do peso."
   ]
  },
  {
   "cell_type": "code",
   "execution_count": 14,
   "id": "6cbf7bca-97e7-45f7-9bf6-fef3b9b244b7",
   "metadata": {
    "tags": []
   },
   "outputs": [],
   "source": [
    "# Parâmetros\n",
    "dt = 0.001\n",
    "t0 = 0\n",
    "tf = 500\n",
    "x0 = 0\n",
    "v0 = 1\n",
    "\n",
    "# Inclinação em radianos\n",
    "incl = np.radians(5)\n",
    "\n",
    "# Esta função calcula a aceleração a partir da velocidade atual do ciclista\n",
    "def accel(v):\n",
    "    # Aceleração pela potência do ciclista\n",
    "    accel_p = p_ciclista/(m * v)\n",
    "    # Aceleração pela resistência do ar\n",
    "    accel_res = -C_res/(2*m) * A * rho_ar * v**2\n",
    "    # Aceleração pelo atrito\n",
    "    accel_atrito = - mu * np.cos(incl) * g\n",
    "    # Aceleração pelo peso\n",
    "    accel_peso = - np.sin(incl) * g\n",
    "    # Aceleração total\n",
    "    return accel_p + accel_res + accel_atrito + accel_peso\n",
    "\n",
    "# Número de passos/iterações\n",
    "#\n",
    "# + 0.1 para garantir que não há arrendodamentos\n",
    "# para baixo\n",
    "n = int((tf-t0) / dt + 0.1)\n",
    "\n",
    "t = np.zeros(n + 1)\n",
    "x = np.zeros(n + 1)\n",
    "v = np.zeros(n + 1)\n",
    "a = np.zeros(n + 1)\n",
    "\n",
    "# Valores iniciais\n",
    "a[0] = accel(v0)\n",
    "v[0] = v0\n",
    "x[0] = x0\n",
    "t[0] = t0\n",
    "\n",
    "for i in range(n):\n",
    "    a[i + 1] = accel(v[i])\n",
    "    v[i + 1] = v[i] + a[i] * dt\n",
    "    x[i + 1] = x[i] + v[i] * dt\n",
    "    t[i + 1] = t[i] + dt"
   ]
  },
  {
   "cell_type": "markdown",
   "id": "7b5111c2-f496-4e92-a7d6-bf96f2837184",
   "metadata": {},
   "source": [
    "## Parte A"
   ]
  },
  {
   "cell_type": "markdown",
   "id": "b644b48e-be0c-4356-aba8-ddf125034ca0",
   "metadata": {},
   "source": [
    "Quanto tempo demora a percorrer 2 km?\n",
    "\n",
    "Mais uma vez podemos subtrair 2km a posição e encontrar o zero."
   ]
  },
  {
   "cell_type": "code",
   "execution_count": 15,
   "id": "a97a1f74-e79f-4a53-96ee-c64a769b2ec1",
   "metadata": {
    "tags": []
   },
   "outputs": [
    {
     "data": {
      "image/png": "[encoded data removed]",
      "text/plain": [
       "<Figure size 640x480 with 1 Axes>"
      ]
     },
     "metadata": {},
     "output_type": "display_data"
    }
   ],
   "source": [
    "plt.plot(t, x - 2000, \"r\")\n",
    "plt.xlabel(\"t (s)\")\n",
    "plt.ylabel(\"x (m)\")\n",
    "plt.title(\"Posição\")\n",
    "plt.show()"
   ]
  },
  {
   "cell_type": "code",
   "execution_count": 16,
   "id": "9e1110f3-9ad6-4afa-9b57-1a4b670c98ad",
   "metadata": {
    "tags": []
   },
   "outputs": [],
   "source": [
    "for i in range(n):\n",
    "  # Subtrair 2km a posição\n",
    "  scaledX0 = x[i] - 2000\n",
    "  scaledX1 = x[i + 1] - 2000\n",
    "  # Procurar os zeros com a posição modificada\n",
    "  if scaledX0 == 0 or scaledX0 * scaledX1 < 0:\n",
    "    idx = i\n",
    "    break\n",
    "\n",
    "x2000 = x[idx]\n",
    "t2000 = t[idx]"
   ]
  },
  {
   "cell_type": "code",
   "execution_count": 17,
   "id": "068b68f7-eea8-49ab-a041-00f8f9c5c466",
   "metadata": {
    "tags": [
     "remove_cell"
    ]
   },
   "outputs": [
    {
     "data": {
      "text/latex": [
       "$\\displaystyle x_{2000} = 1999.99980992 \\; \\text{m}$"
      ],
      "text/plain": [
       "<IPython.core.display.Math object>"
      ]
     },
     "metadata": {},
     "output_type": "display_data"
    },
    {
     "data": {
      "text/latex": [
       "$\\displaystyle t_{2000} = 477.32400000 \\; \\text{s}$"
      ],
      "text/plain": [
       "<IPython.core.display.Math object>"
      ]
     },
     "metadata": {},
     "output_type": "display_data"
    }
   ],
   "source": [
    "display(Math(r'x_{{2000}} = {:.8f} \\; \\text{{m}}'.format(x2000)))\n",
    "display(Math(r't_{{2000}} = {:.8f} \\; \\text{{s}}'.format(t2000)))"
   ]
  },
  {
   "cell_type": "markdown",
   "id": "b3d4d67c-b550-4a7d-9e5d-1f223cc89327",
   "metadata": {},
   "source": [
    "## Parte B"
   ]
  },
  {
   "cell_type": "markdown",
   "id": "7e436be6-754f-416c-9ea1-bca0ec215c5c",
   "metadata": {},
   "source": [
    "Qual a sua velocidade terminal?\n",
    "\n",
    "Calculamos o máximo da velocidade para obter a velocidade terminal."
   ]
  },
  {
   "cell_type": "code",
   "execution_count": 18,
   "id": "e88f9d7a-2c95-4e42-8931-2724f2ead51a",
   "metadata": {
    "tags": []
   },
   "outputs": [
    {
     "data": {
      "image/png": "[encoded data removed]",
      "text/plain": [
       "<Figure size 640x480 with 1 Axes>"
      ]
     },
     "metadata": {},
     "output_type": "display_data"
    }
   ],
   "source": [
    "plt.plot(t, v, \"g\")\n",
    "plt.xlabel(\"t (s)\")\n",
    "plt.ylabel(\"v (m/s)\")\n",
    "plt.title(\"Velocidade\")\n",
    "plt.show()"
   ]
  },
  {
   "cell_type": "code",
   "execution_count": 19,
   "id": "a9525411-ede5-42d7-928e-0c34cd73f48a",
   "metadata": {
    "tags": []
   },
   "outputs": [],
   "source": [
    "idx = v.argmax()\n",
    "vT = v[idx]"
   ]
  },
  {
   "cell_type": "code",
   "execution_count": 20,
   "id": "7d22e618-ee8f-40bb-aa2a-f79f17a8d857",
   "metadata": {},
   "outputs": [
    {
     "data": {
      "text/latex": [
       "$\\displaystyle v_T = 4.20787270 \\; \\text{m/s}$"
      ],
      "text/plain": [
       "<IPython.core.display.Math object>"
      ]
     },
     "metadata": {},
     "output_type": "display_data"
    }
   ],
   "source": [
    "display(Math(r'v_T = {:.8f} \\; \\text{{m/s}}'.format(vT)))"
   ]
  },
  {
   "cell_type": "markdown",
   "id": "0c3f81a8-9e86-4f7e-a7f2-7696394bd3d6",
   "metadata": {},
   "source": [
    "# Exercício 3"
   ]
  },
  {
   "cell_type": "markdown",
   "id": "ee12591b-3990-423a-9b5c-5e0b4c47d6df",
   "metadata": {
    "tags": []
   },
   "source": [
    "Muitos ciclistas amadores conduzem com o tronco levantado. Esta posição\n",
    "aumenta a área de varrimento para o dobro."
   ]
  },
  {
   "cell_type": "markdown",
   "id": "6e1e4856-9f8d-4b68-9137-57d741cdf2c7",
   "metadata": {
    "tags": []
   },
   "source": [
    "## Parte A"
   ]
  },
  {
   "cell_type": "markdown",
   "id": "b62fcbf4-6776-4f31-85a0-b3dea5d712a3",
   "metadata": {},
   "source": [
    "Calcule a potência a desenvolver pelo ciclista se a velocidade for 30 km/h.\n",
    "\n",
    "A potência é dada por $F \\cdot v$, logo para calcular a potência necessária para 30 km/h basta calcularmos as forças que atuam no ciclista e multiplicar pela velocidade.\n",
    "\n",
    "As forças que atuam no ciclista são as mesmas do exercício 1, exceto a potência:\n",
    "\n",
    "$$\n",
    "F = \\frac{C_\\text{res}}{2} \\, A \\, \\rho_\\text{ar} \\, v^2 + \\mu \\, m \\, g\n",
    "$$\n",
    "\n",
    "Logo a potência é dada por:\n",
    "\n",
    "$$\n",
    "P = \\left( \\frac{C_\\text{res}}{2} \\, A \\, \\rho_\\text{ar} \\, v^2 + \\mu \\, m \\, g \\right) v\n",
    "$$\n",
    "\n",
    "A velocidade tem primeiro de ser convertida para m/s:\n",
    "\n",
    "$$\n",
    "30 \\; \\text{km/h} = \\frac{30 \\times 1000}{3600} = \\frac{25}{3} \\; \\text{m/s}\n",
    "$$\n",
    "\n",
    "Substituindo:\n",
    "\n",
    "\n",
    "\n",
    "$$\n",
    "\\begin{align*}\n",
    "P &= \\left(\n",
    "\\frac{0.9}{2} \\times 0.30 \\times 1.225 \\times \\left( \\frac{25}{3} \\right)^2\n",
    "+ 0.004 \\times 75 \\times 9.8\n",
    "\\right) \\times \\left( \\frac{25}{3} \\right) \\\\\n",
    "&= \\left( 11.484375 + 2.94 \\right) \\times \\left( \\frac{25}{3} \\right)\n",
    "= 120.203125\n",
    "\\end{align*}\n",
    "$$\n",
    "\n",
    "Ou calculando utilizando python:"
   ]
  },
  {
   "cell_type": "code",
   "execution_count": 25,
   "id": "f3c98d09-fd4f-4cc1-8669-3530fdcb7903",
   "metadata": {
    "tags": []
   },
   "outputs": [],
   "source": [
    "v = (30 * 1000) / 3600\n",
    "\n",
    "forca_res = C_res/2 * A * rho_ar * v**2\n",
    "forca_atrito = + mu * g * m\n",
    "\n",
    "potencia = (forca_res + forca_atrito) * v"
   ]
  },
  {
   "cell_type": "code",
   "execution_count": 26,
   "id": "09f0d1e7-fe79-4af2-9f36-1889e3840ec3",
   "metadata": {
    "tags": [
     "remove_cell"
    ]
   },
   "outputs": [
    {
     "data": {
      "text/latex": [
       "$\\displaystyle P = 120.20312500 \\; \\text{W}$"
      ],
      "text/plain": [
       "<IPython.core.display.Math object>"
      ]
     },
     "metadata": {},
     "output_type": "display_data"
    }
   ],
   "source": [
    "display(Math(r'P = {:.8f} \\; \\text{{W}}'.format(potencia)))"
   ]
  },
  {
   "cell_type": "markdown",
   "id": "fd6353ef-c6a8-4045-9d0b-acd0eb45b250",
   "metadata": {},
   "source": [
    "## Parte B"
   ]
  },
  {
   "cell_type": "markdown",
   "id": "f1dbfb07-9743-467f-80ba-0dd358560d98",
   "metadata": {
    "tags": []
   },
   "source": [
    "E se a velocidade for de 40 km/h, qual a potência desenvolvida pelo ciclista?\n",
    "\n",
    "O processo é o mesmo, começamos por converter a velocidade de km/h para m/s:\n",
    "\n",
    "$$\n",
    "40 \\; \\text{km/h} = \\frac{40 \\times 1000}{3600} = \\frac{100}{9} \\; \\text{m/s}\n",
    "$$\n",
    "\n",
    "Substituindo:\n",
    "\n",
    "$$\n",
    "\\begin{align*}\n",
    "P &= \\left(\n",
    "\\frac{0.9}{2} \\times 0.30 \\times 1.225 \\times \\left( \\frac{100}{9} \\right)^2\n",
    "+ 0.004 \\times 75 \\times 9.8\n",
    "\\right) \\times \\left( \\frac{100}{9} \\right) \\\\\n",
    "&\\approx \\left( 20.41666667 + 2.94 \\right) \\times \\left( \\frac{100}{9} \\right)\n",
    "\\approx 259.5185186\n",
    "\\end{align*}\n",
    "$$\n",
    "\n",
    "Utilizando python:"
   ]
  },
  {
   "cell_type": "code",
   "execution_count": 27,
   "id": "da91d9c7-3333-4945-82b2-bc4654f1b44b",
   "metadata": {
    "tags": []
   },
   "outputs": [],
   "source": [
    "v = (40 * 1000) / 3600\n",
    "\n",
    "forca_res = C_res/2 * A * rho_ar * v**2\n",
    "forca_atrito = + mu * g * m\n",
    "\n",
    "potencia = (forca_res + forca_atrito) * v"
   ]
  },
  {
   "cell_type": "code",
   "execution_count": 28,
   "id": "3166f099-8cdd-4bd1-aa4c-27a8fffe097d",
   "metadata": {
    "tags": [
     "remove_cell"
    ]
   },
   "outputs": [
    {
     "data": {
      "text/latex": [
       "$\\displaystyle P = 259.51851852 \\; \\text{W}$"
      ],
      "text/plain": [
       "<IPython.core.display.Math object>"
      ]
     },
     "metadata": {},
     "output_type": "display_data"
    }
   ],
   "source": [
    "display(Math(r'P = {:.8f} \\; \\text{{W}}'.format(potencia)))"
   ]
  }
 ],
 "metadata": {
  "authors": [
   {
    "name": "João Capucho"
   }
  ],
  "kernelspec": {
   "display_name": "Python 3 (ipykernel)",
   "language": "python",
   "name": "python3"
  },
  "language_info": {
   "codemirror_mode": {
    "name": "ipython",
    "version": 3
   },
   "file_extension": ".py",
   "mimetype": "text/x-python",
   "name": "python",
   "nbconvert_exporter": "python",
   "pygments_lexer": "ipython3",
   "version": "3.10.12"
  },
  "title": "Guião Prático 8"
 },
 "nbformat": 4,
 "nbformat_minor": 5
}
