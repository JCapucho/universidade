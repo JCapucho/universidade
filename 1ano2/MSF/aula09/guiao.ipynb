{
 "cells": [
  {
   "cell_type": "code",
   "execution_count": 1,
   "id": "8b166bac-8c39-42f4-9559-16db9aae8118",
   "metadata": {
    "tags": [
     "remove_cell"
    ]
   },
   "outputs": [],
   "source": [
    "from IPython.display import display, Math"
   ]
  },
  {
   "cell_type": "code",
   "execution_count": 66,
   "id": "bc3d9558-95c7-450d-9a7e-0d829adb7f70",
   "metadata": {
    "tags": []
   },
   "outputs": [],
   "source": [
    "# As seguintes librarias serão necessárias para resolver os exercícios\n",
    "import numpy as np # O numpy permite efetuar cálculos de forma eficiente\n",
    "                   # sobre vários números (arrays)\n",
    "import matplotlib.pyplot as plt # O matplotlib e o seu módulo pyplot oferecem\n",
    "                                # uma interface simples para gerar gráficos"
   ]
  },
  {
   "cell_type": "code",
   "execution_count": 67,
   "id": "892455ce-52bb-4e95-a4d9-db36104cf060",
   "metadata": {
    "tags": [
     "remove_cell"
    ]
   },
   "outputs": [],
   "source": [
    "# Define uma função para calcular a regressão linear para não estar sempre a refaze-la\n",
    "import numpy.typing as npt\n",
    "from dataclasses import dataclass\n",
    "\n",
    "\n",
    "@dataclass\n",
    "class LinRegResult:\n",
    "    m: float\n",
    "    b: float\n",
    "    r2: float\n",
    "    delta_m: float\n",
    "    delta_b: float\n",
    "\n",
    "    def apply(self, x: float | npt.NDArray) -> float | npt.NDArray:\n",
    "        return self.m * x + self.b\n",
    "\n",
    "    def dump(self):\n",
    "        print(f\"m={self.m}\")\n",
    "        print(f\"b={self.b}\")\n",
    "        print(f\"r²={self.r2}\")\n",
    "        print(f\"Δm={self.delta_m}\")\n",
    "        print(f\"Δb={self.delta_b}\")\n",
    "\n",
    "\n",
    "def linreg(x: npt.ArrayLike, y: npt.ArrayLike) -> LinRegResult:\n",
    "    assert np.size(x) == np.size(y)\n",
    "\n",
    "    data_points = np.size(x)\n",
    "    \n",
    "    mul_sum = np.sum(np.multiply(x, y))\n",
    "    x_sum = np.sum(x)\n",
    "    y_sum = np.sum(y)\n",
    "    m_numerator = data_points * mul_sum - x_sum * y_sum\n",
    "    \n",
    "    x2_sum = np.sum(np.square(x))\n",
    "    x_sum2 = np.square(np.sum(x))\n",
    "    x_denom = data_points * x2_sum - x_sum2\n",
    "    \n",
    "    y2_sum = np.sum(np.square(y))\n",
    "    y_sum2 = np.square(np.sum(y))\n",
    "    y_denom = data_points * y2_sum - y_sum2\n",
    "    \n",
    "    m = m_numerator / x_denom\n",
    "    b = (x2_sum * y_sum - x_sum * mul_sum) / x_denom\n",
    "    \n",
    "    r2 = m_numerator**2 / (x_denom * y_denom)\n",
    "    \n",
    "    delta_m = np.absolute(m) * np.sqrt((1 / r2 - 1) / (data_points - 2))\n",
    "    delta_b = delta_m * np.sqrt(x2_sum / data_points)\n",
    "\n",
    "    return LinRegResult(m=m, b=b, r2=r2, delta_m=delta_m, delta_b=delta_b)\n"
   ]
  },
  {
   "cell_type": "markdown",
   "id": "42400f38-ba14-42d0-9c29-f22c890f2d7e",
   "metadata": {},
   "source": [
    "# Exercício 1"
   ]
  },
  {
   "cell_type": "markdown",
   "id": "483af071-0cfa-49a9-b6da-2fe0eece1180",
   "metadata": {},
   "source": [
    "Uma bola de ténis é batida junto ao solo (posição inicial $y = 0$) com a velocidade 100 km/h, a fazer um ângulo de 10º com a horizontal e no sentido positivo dum eixo horizontal OX, sendo OY eixo vertical.\n",
    "\n",
    "Use a aproximação trapezoidal para calcular os integrais. A velocidade terminal da bola de ténis é 100 km/h. A massa da bola é 57 g."
   ]
  },
  {
   "cell_type": "markdown",
   "id": "0544a4b8-fbb0-48dc-83f7-f1eebc6627fa",
   "metadata": {},
   "source": [
    "## Parte A"
   ]
  },
  {
   "cell_type": "markdown",
   "id": "bed96a91-fded-44a2-938d-36ef800e5ea7",
   "metadata": {},
   "source": [
    "Calcule a energia mecânica em qualquer instante, no caso de não considerar a resistência do ar.\n",
    "\n",
    "Se não houver resistência do ar, não existem forças não conservativas a atuar no sistema, o que implica que a energia mecânica será constante ao longo do tempo, logo podemos calcular a energia no instante inicial onde $E_m = E_c$ pois como a bola está ao nível do chão a energia potencial gravítica é nula.\n",
    "\n",
    "A energia cinética é dada pela seguinte fórmula:\n",
    "\n",
    "$$\n",
    "E_c = \\frac{1}{2} m \\left\\lvert \\vec{v} \\right\\rvert^2\n",
    "$$\n",
    "\n",
    "Mas primeiro precisamos de converter a velocidade para a unidade SI (m/s):\n",
    "\n",
    "$$\n",
    "\\left\\lvert \\vec{v} \\right\\rvert = 100 \\; \\text{km/h} = \\frac{250}{9} \\; \\text{m/s}\n",
    "$$\n",
    "\n",
    "Agora que já temos a velocidade em unidades SI podemos calcular a energia cinética:\n",
    "\n",
    "$$\n",
    "E_c = \\frac{1}{2} \\times 0.057 \\times \\left( \\frac{250}{9} \\right)^2 \\approx 21.99074074 \\; J\n",
    "$$"
   ]
  },
  {
   "cell_type": "markdown",
   "id": "cf71655f-632b-4e95-be2b-c308f513c8ca",
   "metadata": {},
   "source": [
    "## Parte B"
   ]
  },
  {
   "cell_type": "markdown",
   "id": "6e4d2c83-e354-4315-94ff-1b47cbeb0923",
   "metadata": {},
   "source": [
    "Considerando a resistência do ar, calcule a energia mecânica de $t_0 = 0$ até $t_f = 0.8 \\; \\text{s}$.\n",
    "\n",
    "Como agora existem forças não conservativas a energia mecânica já não será constante ao longo do tempo. Isto implica que tenhamos que calcular a energia mecânica para cada instante, a energia mecânica pode ser calculada como:\n",
    "\n",
    "$$\n",
    "E_m = E_c + E_p\n",
    "$$\n",
    "\n",
    "A energia cinética pode ser calculada da mesma forma e a energia potencial neste caso é a energia potencial gravítica, esta pode ser calculada como $E_p = mgh$, onde $m$ é a massa do corpo, $g$ a aceleração gravítica e $h$ a altura do corpo em relação ao referencial.\n",
    "\n",
    "Estes valores podem ser obtidos através do método de euler.\n",
    "\n",
    "A força da resistência do ar é dada pela seguinte fórmula:\n",
    "\n",
    "$$\n",
    "F_\\text{res} = - m \\, D \\, \\left\\lvert \\vec{v} \\right\\rvert^2 \\hat{v}, \\quad D = \\frac{g}{v_T^2}\n",
    "$$\n",
    "\n",
    "Logo se removermos a multiplicação pela massa obtemos a aceleração."
   ]
  },
  {
   "cell_type": "code",
   "execution_count": 39,
   "id": "33c295b4-bf86-4dd9-a9e7-c1ca6cad34b1",
   "metadata": {},
   "outputs": [],
   "source": [
    "# Parâmetros\n",
    "dt = 0.0001\n",
    "t0 = 0\n",
    "tf = 0.8\n",
    "g = 9.8 # Aceleração gravítica\n",
    "\n",
    "m = 0.057 # Massa do corpo\n",
    "x0 = np.array([0, 0]) # Posição inicial\n",
    "\n",
    "# Velocidade inicial\n",
    "angle = np.radians(10)\n",
    "v0Norm = 250/9\n",
    "v0 = np.array([\n",
    "    v0Norm * np.cos(angle),\n",
    "    v0Norm * np.sin(angle)\n",
    "])\n",
    "\n",
    "# Constantes para a resistência do ar\n",
    "vT = 250/9 # velocidade terminal\n",
    "D = g/vT**2\n",
    "\n",
    "# Esta função calcula a força da resistência do ar a partir da velocidade atual\n",
    "def forcaRes(v):\n",
    "    vNorm = np.linalg.norm(v)\n",
    "    vHat = v / vNorm\n",
    "    return -m * D * vNorm** 2 * vHat\n",
    "\n",
    "# Esta função calcula a aceleração a partir da velocidade atual\n",
    "def accel(v):\n",
    "    return np.array([0, -g]) + forcaRes(v)/m\n",
    "\n",
    "def energiaMecanica(x, v):\n",
    "    # Energia cinética\n",
    "    E_c = 1/2 * m * np.linalg.norm(v)**2\n",
    "    # Energia potencial\n",
    "    E_p = m * g * x[1]\n",
    "    # Energia mecânica\n",
    "    return E_c + E_p\n",
    "    \n",
    "\n",
    "# Número de passos/iterações\n",
    "#\n",
    "# + 0.1 para garantir que não há arrendodamentos\n",
    "# para baixo\n",
    "n = int((tf-t0) / dt + 0.1)\n",
    "# Movimento 2D\n",
    "shape = (n + 1, 2)\n",
    "\n",
    "a = np.zeros(shape)\n",
    "v = np.zeros(shape)\n",
    "x = np.zeros(shape)\n",
    "t = np.zeros(n + 1)\n",
    "\n",
    "E_m = np.zeros(n + 1)\n",
    "\n",
    "# Valores iniciais\n",
    "a[0] = accel(v0)\n",
    "v[0] = v0\n",
    "x[0] = x0\n",
    "t[0] = t0\n",
    "\n",
    "E_m[0] = energiaMecanica(x0, v0)\n",
    "\n",
    "for i in range(n):\n",
    "    a[i + 1] = accel(v[i])\n",
    "    v[i + 1] = v[i] + a[i] * dt\n",
    "    x[i + 1] = x[i] + v[i] * dt\n",
    "    t[i + 1] = t[i] + dt\n",
    "    \n",
    "    E_m[i + 1] = energiaMecanica(x[i + 1], v[i + 1])"
   ]
  },
  {
   "cell_type": "code",
   "execution_count": 12,
   "id": "0ac7d3c3-9971-4967-8318-dab7fc6a9dfc",
   "metadata": {
    "tags": []
   },
   "outputs": [
    {
     "data": {
      "image/png": "[encoded data removed]",
      "text/plain": [
       "<Figure size 640x480 with 1 Axes>"
      ]
     },
     "metadata": {},
     "output_type": "display_data"
    }
   ],
   "source": [
    "plt.plot(t, E_m, \"g\")\n",
    "plt.xlabel(\"t (s)\")\n",
    "plt.ylabel(\"Energia (J)\")\n",
    "plt.title(\"Energia mecânica\")\n",
    "plt.show()"
   ]
  },
  {
   "cell_type": "markdown",
   "id": "1e1d67fa-89c4-43be-a4a5-738c956b1b36",
   "metadata": {},
   "source": [
    "## Parte C"
   ]
  },
  {
   "cell_type": "markdown",
   "id": "c6a0247a-8152-4850-ae58-4cedaef1a547",
   "metadata": {},
   "source": [
    "Considerando a resistência do ar, calcule o trabalho realizado pela força de resistência do ar até às posições nos três instantes $t_0 = 0$, $t_1 = 0.4$ e $t_2 = 0.8$ s.\n",
    "\n",
    "O trabalho é dado pela seguinte expressão:\n",
    "\n",
    "$$\n",
    "W = \\int_C \\vec{F} \\cdot \\vec{v} \\; d\\vec{r} = \\int_{t_0}^{t_1} F_x \\cdot v_x \\; dt + \\int_{t_0}^{t_1} F_y \\cdot v_y \\; dt\n",
    "$$\n",
    "\n",
    "Para calcular o integral vamos utilizar a aproximação trapezoidal. O vetor da velocidade já sabemos e o vetor da força da resistência do ar podemos facilmente calcular com o método de Euler."
   ]
  },
  {
   "cell_type": "code",
   "execution_count": 43,
   "id": "98abfab4-6d7a-4275-8284-eb137c8437d0",
   "metadata": {
    "tags": []
   },
   "outputs": [
    {
     "name": "stdout",
     "output_type": "stream",
     "text": [
      "0.0: -0.0015516666666666665 J\n",
      "0.4: -4.978670361881312 J\n",
      "0.8: -8.381340806321727 J\n"
     ]
    }
   ],
   "source": [
    "F_res = np.zeros(shape)\n",
    "\n",
    "# Valores iniciais\n",
    "F_res[0] = forcaRes(v0)\n",
    "\n",
    "# Voltar a fazer o método de euler mas apenas para a força da resistência do ar, pois os outros valores já foram calculados\n",
    "for i in range(n):\n",
    "    F_res[i + 1] = forcaRes(v[i])\n",
    "\n",
    "# O trabalho é dado pela força * velocidade, logo fazemos já a multiplicação dos dois arrays\n",
    "F_times_v = F_res * v\n",
    "\n",
    "# Loop pelos instantes que queremos medir\n",
    "for t_i in [0, 0.4, 0.8]:\n",
    "    # Número de passos a considerar com base no tempo final pretendido\n",
    "    n_i = int((t_i - t0) / dt)\n",
    "    \n",
    "    # Cálculo dos integrais para cada componente do movimento\n",
    "    W_res_x = dt * ((F_times_v[0, 0] + F_times_v[n_i, 0]) * 0.5 + np.sum(F_times_v[1:n_i, 0]))\n",
    "    W_res_y = dt * ((F_times_v[0, 1] + F_times_v[n_i, 1]) * 0.5 + np.sum(F_times_v[1:n_i, 1]))\n",
    "    \n",
    "    # Trabalho como a soma do trabalho em cada componente\n",
    "    W_res = W_res_x + W_res_y\n",
    "    \n",
    "    print(f\"{t_i:0.1f}: {W_res} J\")"
   ]
  },
  {
   "cell_type": "markdown",
   "id": "42002946-7432-459f-87d8-4e887d68910a",
   "metadata": {},
   "source": [
    "## Parte C (Outro método)"
   ]
  },
  {
   "cell_type": "markdown",
   "id": "697dae73-c475-4d40-baa2-53d540e406e5",
   "metadata": {},
   "source": [
    "A alínea C também pode ser calculada sem integrais, utilizando o valor da energia mecânica calculado sem resistência do ar, pois este cumpre a seguinte igualdade:\n",
    "\n",
    "$$\n",
    "W_{0,1} = \\frac{1}{2} m \\left\\lvert \\vec{v_1} \\right\\rvert^2\n",
    "- \\frac{1}{2} m \\left\\lvert \\vec{v_0} \\right\\rvert^2\n",
    "$$"
   ]
  },
  {
   "cell_type": "code",
   "execution_count": 44,
   "id": "5cbdd503-1b60-4e3a-bc97-f2f7ec5062de",
   "metadata": {
    "tags": []
   },
   "outputs": [
    {
     "name": "stdout",
     "output_type": "stream",
     "text": [
      "0.0: 0.00 J\n",
      "0.4: -4.98 J\n",
      "0.8: -8.38 J\n"
     ]
    }
   ],
   "source": [
    "E_orig = 21.99074074\n",
    "\n",
    "for t_i in [0, 0.4, 0.8]:\n",
    "    targetIdx = int(np.ceil(t_i / dt))\n",
    "    W_nc = E_m[targetIdx] - E_orig\n",
    "    print(f\"{t_i:0.1f}: {W_nc:0.2f} J\")"
   ]
  },
  {
   "cell_type": "markdown",
   "id": "058505a2-0f94-4a95-88d5-0641677b9ea1",
   "metadata": {},
   "source": [
    "# Exercício 2"
   ]
  },
  {
   "cell_type": "markdown",
   "id": "4cc8edb4-91e6-4b85-bba3-d7451dce0c35",
   "metadata": {},
   "source": [
    "## Parte A"
   ]
  },
  {
   "cell_type": "markdown",
   "id": "895ff547-a7ba-46d9-805d-f76b780d0de5",
   "metadata": {},
   "source": [
    "Nas mesmas condições do problema anterior, repete o calculo do trabalho realizado pela força de resistência do ar no instante $t_1 = 0.4 \\; \\text{s}$, usando os seguintes valores de $\\delta t$:\n",
    "\n",
    "$$\n",
    "\\{0.1,0.01,0.001,0.0001,0.00001\\}\n",
    "$$\n"
   ]
  },
  {
   "cell_type": "code",
   "execution_count": 90,
   "id": "9a974159-ab64-4ae6-980f-b6f85bd3286a",
   "metadata": {
    "tags": []
   },
   "outputs": [
    {
     "name": "stdout",
     "output_type": "stream",
     "text": [
      "0.1: -5.253617635720338\n",
      "0.01: -5.003645126523292\n",
      "0.001: -4.979517965488731\n",
      "0.0001: -4.977118695214646\n",
      "1e-05: -4.97687890557073\n"
     ]
    }
   ],
   "source": [
    "dts = np.array([0.1,0.01,0.001,0.0001,0.00001])\n",
    "W_res = np.zeros(len(dts))\n",
    "\n",
    "for idx, dt in enumerate(dts):\n",
    "    # Parâmetros\n",
    "    t0 = 0\n",
    "    tf = 0.4\n",
    "    \n",
    "    # Número de passos/iterações\n",
    "    #\n",
    "    # + 0.1 para garantir que não há arrendodamentos\n",
    "    # para baixo\n",
    "    n = int((tf-t0) / dt + 0.1)\n",
    "    # Movimento 2D\n",
    "    shape = (n + 1, 2)\n",
    "\n",
    "    a = np.zeros(shape)\n",
    "    v = np.zeros(shape)\n",
    "    x = np.zeros(shape)\n",
    "    t = np.zeros(n + 1)\n",
    "    F_res = np.zeros(shape)\n",
    "\n",
    "\n",
    "    E_m = np.zeros(n + 1)\n",
    "\n",
    "    # Valores iniciais\n",
    "    a[0] = accel(v0)\n",
    "    v[0] = v0\n",
    "    x[0] = x0\n",
    "    t[0] = t0\n",
    "    F_res[0] = forcaRes(v0)\n",
    "\n",
    "    for i in range(n):\n",
    "        a[i + 1] = accel(v[i])\n",
    "        v[i + 1] = v[i] + a[i] * dt\n",
    "        x[i + 1] = x[i] + v[i] * dt\n",
    "        t[i + 1] = t[i] + dt\n",
    "\n",
    "        F_res[i + 1] = forcaRes(v[i])\n",
    "    \n",
    "    # O trabalho é dado pela força * velocidade, logo fazemos já a multiplicação dos dois arrays\n",
    "    F_times_v = F_res * v\n",
    "    \n",
    "    # Cálculo dos integrais para cada componente do movimento\n",
    "    W_res_x = dt * ((F_times_v[0, 0] + F_times_v[n, 0]) * 0.5 + np.sum(F_times_v[1:n, 0]))\n",
    "    W_res_y = dt * ((F_times_v[0, 1] + F_times_v[n, 1]) * 0.5 + np.sum(F_times_v[1:n, 1]))\n",
    "    \n",
    "    W_res_dt = W_res_x + W_res_y\n",
    "    \n",
    "    W_res[idx] = W_res_dt\n",
    "    print(f\"{dt}: {W_res_dt}\")"
   ]
  },
  {
   "cell_type": "markdown",
   "id": "fbd96b44-0c73-4b66-8a13-5de0c6406518",
   "metadata": {},
   "source": [
    "## Parte B"
   ]
  },
  {
   "cell_type": "markdown",
   "id": "1e863f72-9d0f-4de3-bcc0-bf5ee2d838d9",
   "metadata": {},
   "source": [
    "Faça um plot em escala log-log do erro $\\left\\lvert W^{(\\delta t)} - W^\\text{(exato)} \\right\\rvert$ nos valores do trabalho calculado em a), em função de $\\delta t$.\n",
    "\n",
    "Para o valor exato do trabalho use $W^\\text{(exato)} = -4.9768522 \\; \\text{J}$\n",
    "\n",
    "Qual é a ordem do erro em termos de $\\delta t$?"
   ]
  },
  {
   "cell_type": "code",
   "execution_count": 1,
   "id": "90263cd9-2c55-4920-a9bc-cfa75573f089",
   "metadata": {
    "tags": []
   },
   "outputs": [
    {
     "ename": "NameError",
     "evalue": "name 'np' is not defined",
     "output_type": "error",
     "traceback": [
      "\u001b[0;31m---------------------------------------------------------------------------\u001b[0m",
      "\u001b[0;31mNameError\u001b[0m                                 Traceback (most recent call last)",
      "Cell \u001b[0;32mIn[1], line 2\u001b[0m\n\u001b[1;32m      1\u001b[0m W_exato \u001b[38;5;241m=\u001b[39m \u001b[38;5;241m-\u001b[39m\u001b[38;5;241m4.9768522\u001b[39m\n\u001b[0;32m----> 2\u001b[0m dif \u001b[38;5;241m=\u001b[39m \u001b[43mnp\u001b[49m\u001b[38;5;241m.\u001b[39mabs(W_res \u001b[38;5;241m-\u001b[39m W_exato)\n\u001b[1;32m      4\u001b[0m log_dts \u001b[38;5;241m=\u001b[39m np\u001b[38;5;241m.\u001b[39mlog2(dts)\n\u001b[1;32m      5\u001b[0m log_dif \u001b[38;5;241m=\u001b[39m np\u001b[38;5;241m.\u001b[39mlog2(dif)\n",
      "\u001b[0;31mNameError\u001b[0m: name 'np' is not defined"
     ]
    }
   ],
   "source": [
    "W_exato = -4.9768522\n",
    "dif = np.abs(W_res - W_exato)\n",
    "\n",
    "log_dts = np.log2(dts)\n",
    "log_dif = np.log2(dif)\n",
    "\n",
    "plt.plot(log_dts, log_dif, \"r+\")\n",
    "plt.xlabel(\"log(t)\")\n",
    "plt.ylabel(\"log(Energia)\")\n",
    "plt.title(\"Erro\")\n",
    "plt.show()"
   ]
  },
  {
   "cell_type": "markdown",
   "id": "96ced508-dda1-4df2-8b60-872362783a09",
   "metadata": {},
   "source": [
    "A ordem do termo $\\delta t$ pode ser obtida através do declive da regressão linear do gráfico log-log:\n",
    "\n",
    "$$\n",
    "\\log (y) = \\log \\left(c{\\delta t}^n\\right) = \\log c + n\\log {\\delta t}\n",
    "$$"
   ]
  },
  {
   "cell_type": "code",
   "execution_count": 92,
   "id": "1cd171dd-3afe-4eef-8859-8590dcdbb06d",
   "metadata": {
    "tags": []
   },
   "outputs": [
    {
     "name": "stdout",
     "output_type": "stream",
     "text": [
      "1.003335071378553\n"
     ]
    }
   ],
   "source": [
    "res = linreg(log_dts, log_dif)\n",
    "print(res.m)"
   ]
  },
  {
   "cell_type": "markdown",
   "id": "05904270-d10e-4c29-b89e-e3bee7b604d1",
   "metadata": {},
   "source": [
    "## Parte C"
   ]
  },
  {
   "cell_type": "markdown",
   "id": "47e27c35-d2a8-43e8-8f15-253b9290b593",
   "metadata": {},
   "source": [
    "Repete alinhas a) e b) usando a aproximação retangular para calcular os integrais. Qual o ordem do erro? Qual dos métodos é preferível usar?\n",
    "\n",
    "O código é equivalente apenas é adicionado um loop exterior para calcular com cada $\\delta t$"
   ]
  },
  {
   "cell_type": "code",
   "execution_count": 87,
   "id": "f39c7cc4-4cf4-4aaa-8a18-7350e68ec1fa",
   "metadata": {
    "tags": []
   },
   "outputs": [
    {
     "name": "stdout",
     "output_type": "stream",
     "text": [
      "0.1: -5.511672036324359\n",
      "0.01: -5.031024813421938\n",
      "0.001: -4.982267179395241\n",
      "0.0001: -4.97739372587815\n",
      "1e-05: -4.976906409726722\n"
     ]
    }
   ],
   "source": [
    "dts = np.array([0.1,0.01,0.001,0.0001,0.00001])\n",
    "W_res = np.zeros(len(dts))\n",
    "\n",
    "for idx, dt in enumerate(dts):\n",
    "    # Parâmetros\n",
    "    t0 = 0\n",
    "    tf = 0.4\n",
    "    \n",
    "    # Número de passos/iterações\n",
    "    #\n",
    "    # + 0.1 para garantir que não há arrendodamentos\n",
    "    # para baixo\n",
    "    n = int((tf-t0) / dt + 0.1)\n",
    "    # Movimento 2D\n",
    "    shape = (n + 1, 2)\n",
    "\n",
    "    a = np.zeros(shape)\n",
    "    v = np.zeros(shape)\n",
    "    x = np.zeros(shape)\n",
    "    t = np.zeros(n + 1)\n",
    "    F_res = np.zeros(shape)\n",
    "\n",
    "\n",
    "    E_m = np.zeros(n + 1)\n",
    "\n",
    "    # Valores iniciais\n",
    "    a[0] = accel(v0)\n",
    "    v[0] = v0\n",
    "    x[0] = x0\n",
    "    t[0] = t0\n",
    "    F_res[0] = forcaRes(v0)\n",
    "\n",
    "    for i in range(n):\n",
    "        a[i + 1] = accel(v[i])\n",
    "        v[i + 1] = v[i] + a[i] * dt\n",
    "        x[i + 1] = x[i] + v[i] * dt\n",
    "        t[i + 1] = t[i] + dt\n",
    "\n",
    "        F_res[i + 1] = forcaRes(v[i])\n",
    "    \n",
    "    # O trabalho é dado pela força * velocidade, logo fazemos já a multiplicação dos dois arrays\n",
    "    F_times_v = F_res * v\n",
    "    \n",
    "    # Cálculo dos integrais para cada componente do movimento\n",
    "    W_res_x = dt * np.sum(F_times_v[0:n, 0])\n",
    "    W_res_y = dt * np.sum(F_times_v[0:n, 1])\n",
    "    \n",
    "    W_res_dt = W_res_x + W_res_y\n",
    "    \n",
    "    W_res[idx] = W_res_dt\n",
    "    print(f\"{dt}: {W_res_dt}\")"
   ]
  },
  {
   "cell_type": "code",
   "execution_count": 88,
   "id": "ecb8fe00-8758-4a71-a3bf-02949c3a2115",
   "metadata": {
    "tags": []
   },
   "outputs": [
    {
     "data": {
      "image/png": "[encoded data removed]",
      "text/plain": [
       "<Figure size 640x480 with 1 Axes>"
      ]
     },
     "metadata": {},
     "output_type": "display_data"
    }
   ],
   "source": [
    "W_exato = -4.9768522\n",
    "dif = np.abs(W_res - W_exato)\n",
    "\n",
    "log_dts = np.log2(dts)\n",
    "log_dif = np.log2(dif)\n",
    "\n",
    "plt.plot(log_dts, log_dif, \"r+\")\n",
    "plt.xlabel(\"log(t)\")\n",
    "plt.ylabel(\"log(Energia)\")\n",
    "plt.title(\"Erro\")\n",
    "plt.show()"
   ]
  },
  {
   "cell_type": "code",
   "execution_count": 89,
   "id": "839c6a8c-0213-445c-bac0-11195c9780df",
   "metadata": {},
   "outputs": [
    {
     "name": "stdout",
     "output_type": "stream",
     "text": [
      "0.9988421149842602\n"
     ]
    }
   ],
   "source": [
    "res = linreg(log_dts, log_dif)\n",
    "print(res.m)"
   ]
  },
  {
   "cell_type": "markdown",
   "id": "1c06a9ac-3562-446d-a67e-b796a245852f",
   "metadata": {},
   "source": [
    "A aproximação do trapézio apresenta um erro em termo de $\\delta t$ com ordem maior que a aproximação de retângulos."
   ]
  }
 ],
 "metadata": {
  "authors": [
   {
    "name": "João Capucho"
   }
  ],
  "kernelspec": {
   "display_name": "Python 3 (ipykernel)",
   "language": "python",
   "name": "python3"
  },
  "language_info": {
   "codemirror_mode": {
    "name": "ipython",
    "version": 3
   },
   "file_extension": ".py",
   "mimetype": "text/x-python",
   "name": "python",
   "nbconvert_exporter": "python",
   "pygments_lexer": "ipython3",
   "version": "3.10.9"
  },
  "title": "Guião Prático 9"
 },
 "nbformat": 4,
 "nbformat_minor": 5
}
